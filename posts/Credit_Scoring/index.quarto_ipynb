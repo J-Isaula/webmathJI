{
  "cells": [
    {
      "cell_type": "markdown",
      "metadata": {},
      "source": [
        "---\n",
        "title: \"Credit Scoring and Segmentation using Python\"\n",
        "subtitle: \"Machine Learning\"\n",
        "author: \"Juan Isaula\"\n",
        "date: \"2023-09-13\"\n",
        "categories: [FICO, Credit Scores, Python, sklearn]\n",
        "image: \"gatito.jpeg\"\n",
        "---\n",
        "\n",
        "\n",
        "La calificación crediticia y la segmentación se refieren al proceso de evaluar la solvencia de personas o empresas y dividirlos en distintos grupos según sus perfiles crediticios. Su objetivo es evaluar la probabilidad de que los prestatarios pagen sus deudas y ayuda a las instituciones financieras a tomar decisiones informadas sobre préstamos y gestión del riesgo crediticio. Si desea aprender a calcular `puntajes crediticios` y `segmentar` clientes en función de sus puntajes crediticios, este artículo es para usted. En este artículo, lo guiaré a través de la tarea de segementación y calificación crediticia usando `Python`.\n",
        "\n",
        "# Calificación crediticia y segmentación: descripción general\n",
        "\n",
        "El proceso de calcular puntajes crediticios y segmentar clientes en función de sus puntajes crediticios implica varios pasos. En primer lugar, se recopilan y organizan datos relevantes sobre los prestatarios, como:\n",
        "\n",
        "-   historial de pagos,\n",
        "\n",
        "-   utilización del crédito\n",
        "\n",
        "-   historial crediticio\n",
        "\n",
        "-   combinación de créditos.\n",
        "\n",
        "Luego, utilizando algoritmos complejos y modelos estadísticos, los datos recopilados se analizan para generar calificaciones crediticias para cada prestatario.\n",
        "\n",
        "Estos puntajes crediticios son representación numéricas de la solvencia del prestatario e indican la probabilidad de incumplimiento o pago oportuno. Una vez que se calculan los puntajes crediticios, los clientes se segmentan en diferentes categorías de riesgo o niveles de crédito según umbrales predefinidos.\n",
        "\n",
        "Esta segmentación ayuda a las instituciones financieras a evaluar el riesgo crediticio asociado con cada cliente y a tomar decisiones informadas sobre aprobaciones de préstamos, tasas de interés y límites de crédito. Al clasificar a los clientes en segmentos, las instituciones financieras pueden gestionar mejor sus carteras de préstamos y mitigar eficazmente el riesgo de posibles incumplimientos.\n",
        "\n",
        "Entonces, para comenzar con la tarea de calificación y segmentación crediticia, primero necesitamos tener los datos apropiados. Encontré un conjuntos de datos ideal para esta tarea. Puede descargar el conjunto de datos desde [Aquí](https://statso.io/credit-scoring-case-study/).\n",
        "\n",
        "## Calificación crediticia y segmentación usando Python\n",
        "\n",
        "Ahora comencemos con la tarea de segmentación y calificación crediticia importando las bibliotecas de Python necesarias y el conjunto de datos\n"
      ],
      "id": "36400c23"
    },
    {
      "cell_type": "code",
      "metadata": {},
      "source": [
        "import pandas as pd\n",
        "import plotly.graph_objects as go\n",
        "import plotly.express as px\n",
        "import plotly.io as pio\n",
        "pio.templates.default = \"plotly_white\"\n",
        "\n",
        "data = pd.read_csv(\"credit_scoring.csv\")\n",
        "data.head()"
      ],
      "id": "4fa6d415",
      "execution_count": null,
      "outputs": []
    },
    {
      "cell_type": "markdown",
      "metadata": {},
      "source": [
        "A continuación se muestra la descripción de todas los campos de los datos:\n",
        "\n",
        "1.  `Age:` representa la edad del individuo\n",
        "\n",
        "2.  `Gender:` identifica el género del individuo\n",
        "\n",
        "3.  `Marital Status:` denota el estado civil del individuo\n",
        "\n",
        "4.  `Education Level:` representa en nivel más alto de educación alcanzado por el individuo.\n",
        "\n",
        "5.  `Employment Status:` indica el estado de empleo actual del individuo\n",
        "\n",
        "6.  `Credit Utilization:` refleja la proporción de crédito utilizado por el individuo en comparación con su límite de crédito total disponible.\n",
        "\n",
        "7.  `Interest Rate:` tasa de interés asociada con el préstamo.\n",
        "\n",
        "8.  `Payment History:` representa el comportamiento de pago neto mensual de cada cliente, tomando en cuenta factores como pagos a tiempo, pagos atrasados, pagos atrasados e incumplimientos.\n",
        "\n",
        "9.  `Number of Credit Accounts:` representa el conteo de cuentas de crédito activas que posee la persona.\n",
        "\n",
        "10. `Loan Amount:` indica el valor monetario del préstamo.\n",
        "\n",
        "11. `Loan Term:` indica la duraciòn o plazo del préstamo.\n",
        "\n",
        "12. `Type of Loan:` incluye categorías como \"Préstamo personal\", \"Préstamo para automovil\" o potencialmente otro tipos de préstamos.\n",
        "\n",
        "Ahora echemos un vistazo a las estadísticas de las columnas antes de seguir adelante:\n"
      ],
      "id": "0241372b"
    },
    {
      "cell_type": "code",
      "metadata": {},
      "source": [
        "data.info()"
      ],
      "id": "fe42cd0c",
      "execution_count": null,
      "outputs": []
    },
    {
      "cell_type": "markdown",
      "metadata": {},
      "source": [
        "Ahora echemos un vistazo a las estadísticas descriptivas de los datos:\n"
      ],
      "id": "5fd5c74a"
    },
    {
      "cell_type": "code",
      "metadata": {},
      "source": [
        "data.describe()"
      ],
      "id": "6b1a5c94",
      "execution_count": null,
      "outputs": []
    },
    {
      "cell_type": "markdown",
      "metadata": {},
      "source": [
        "Ahora echemos un vistazo a la distribución del índice de utilización del crédito en los datos:\n"
      ],
      "id": "8aa675b8"
    },
    {
      "cell_type": "code",
      "metadata": {},
      "source": [
        "credit_utilization_fig = px.box(data, y='Credit Utilization Ratio',\n",
        "                                title='Distribución del índice de utilización del crédito')\n",
        "credit_utilization_fig.show()"
      ],
      "id": "787fb3e9",
      "execution_count": null,
      "outputs": []
    },
    {
      "cell_type": "markdown",
      "metadata": {},
      "source": [
        "Ahora echemos un vistazo a la distribución del monto del préstamo en los datos:\n"
      ],
      "id": "41774f77"
    },
    {
      "cell_type": "code",
      "metadata": {},
      "source": [
        "loan_amount_fig = px.histogram(data, x='Loan Amount', \n",
        "                               nbins=20, \n",
        "                               title='Distribución del monto del préstamo')\n",
        "loan_amount_fig.show()"
      ],
      "id": "ec615de2",
      "execution_count": null,
      "outputs": []
    },
    {
      "cell_type": "markdown",
      "metadata": {},
      "source": [
        "Luego, echemos un vistazo a la correlación en los datos:\n"
      ],
      "id": "539bc4c3"
    },
    {
      "cell_type": "code",
      "metadata": {},
      "source": [
        "numeric_df = data[['Credit Utilization Ratio', \n",
        "                   'Payment History', \n",
        "                   'Number of Credit Accounts', \n",
        "                   'Loan Amount', 'Interest Rate', \n",
        "                   'Loan Term']]\n",
        "correlation_fig = px.imshow(numeric_df.corr(), \n",
        "                            title='Mapa de calor de correlación')\n",
        "correlation_fig.show()"
      ],
      "id": "03461cbb",
      "execution_count": null,
      "outputs": []
    },
    {
      "cell_type": "markdown",
      "metadata": {},
      "source": [
        "## Calcular puntajes de crédito\n",
        "\n",
        "El conjunto de datos no tiene ninguna característica que represente los puntajes crediticios de las personas. Para calcular las puntuaciones de crédito, debemos utilizar una técnica adecuada. Existen varias técnicas ampliamente utilizadas para calcular puntajes credeticios, cada una con su propio proceso de cálculo. Un ejemplo es el puntaje `FICO`, es un modelo de calificación crediticia comúnmente utilizado en la industria.\n",
        "\n",
        "A continuación se muestra cómo podemos implementar el método de puntuación ***FICO*** para calcular las puntuaciones de crédito.\n"
      ],
      "id": "4e584872"
    },
    {
      "cell_type": "code",
      "metadata": {},
      "source": [
        "# Definir el mapeo para características categóricas\n",
        "education_level_mapping = {'High School': 1, 'Bachelor': 2, 'Master': 3, 'PhD': 4}\n",
        "employment_status_mapping = {'Unemployed': 0, 'Employed': 1, 'Self-Employed': 2}\n",
        "\n",
        "# Aplicar mapeo  a características categóricas\n",
        "data['Education Level'] = data['Education Level'].map(education_level_mapping)\n",
        "data['Employment Status'] = data['Employment Status'].map(employment_status_mapping)\n",
        "\n",
        "# Calcule puntajes de crédito utilizando la fórmula FICO completa\n",
        "credit_scores = []\n",
        "\n",
        "for index, row in data.iterrows():\n",
        "    payment_history = row['Payment History']\n",
        "    credit_utilization_ratio = row['Credit Utilization Ratio']\n",
        "    number_of_credit_accounts = row['Number of Credit Accounts']\n",
        "    education_level = row['Education Level']\n",
        "    employment_status = row['Employment Status']\n",
        "    \n",
        "    # Apliaue la fórmula FICO para calcular el puntaje crediticio\n",
        "    credit_score = (payment_history * 0.35) + (credit_utilization_ratio * 0.30) + (number_of_credit_accounts * 0.15) + (education_level * 0.10) + (employment_status * 0.10)\n",
        "    credit_scores.append(credit_score)\n",
        "\n",
        "# Agregue los puntajes de crédito como una nueva columna al DataFrame\n",
        "data['Credit Score'] = credit_scores\n",
        "\n",
        "data.head()"
      ],
      "id": "1565e9d3",
      "execution_count": null,
      "outputs": []
    },
    {
      "cell_type": "markdown",
      "metadata": {},
      "source": [
        "A continuación se muestra cómo funciona el código anterior:\n",
        "\n",
        "1.  En primer lugar, define asignaciones para dos características categóricas: *\"Nivel de educación\"* y *\"Estado laboral\".* La asignación de *\"Nivel de educación\"* asigna valores numéricos a diferentes niveles de educación, como *\"Escuela secundaria\"* asignada a 1*, \"Licenciatura\"* a *2, \"Maestría\"* a 3 y *\"Doctorado\"* a 4. El *\"Estado de empleo\"* el mapeo asigna valores numéricos a diferentes estados laborales, como *\"desempleado\"* asignado a 0, *\"empleado\"* asigna 1 y \"*autónomo*\" a 2.\n",
        "\n",
        "2.  A continuación, el código aplica las asignaciones definidas a las columnas correspondientes en el DataFrame. Transforma los valores de las columnas *\"Nivel de educación\"* y *\"Estado de empleo\"* de su forma categórica original a las representaciones numéricas asignadas.\n",
        "\n",
        "3.  Después de eso, el código inicia una iteración sobre cada fila del DataFrame para calcular las puntuaciones de crédito de cada individuo. Recupera los valores de características relevantes, como *\"Historial de pagos\"*, *\"índice de utilización de crédito\", \"Número de cuentas de crédito\", \"Nivel de educación\" y \"Estado de empleo\",* de cada fila.\n",
        "\n",
        "Dentro de la iteración, se aplica la fórmula `FICO` para calcular el puntaje de crediticio de cada individuo. La fórmula incorpora los valores ponderados de las características mencionadas anteriormente:\n",
        "\n",
        "1.  Peso del 35% para *\"Historial de pagos (Payment History)\"*\n",
        "2.  Peso del 30% para el \"índice de utilización de crédito (Credit Utilization Ratio)\"\n",
        "3.  Peso del 15% para \"Número de cuentas de crédito (Number of Credit Accounts)\"\n",
        "4.  10% de peso para \"Nivel de educación (Education Level)\"\n",
        "5.  y 10% de ponderación para *\"Estatus laboral (Employment Status)\"*\n",
        "\n",
        "Luego, el puntaje crediticio calculado se almacena en una lista llamada `\"credit_scores\"`.\n",
        "\n",
        "## Segmentación basada en puntakes crediticios\n",
        "\n",
        "Ahora, usemos el algoritmo de agrupamiento KMeans para segmentar a los clientes según sus puntajes crediticios.\n"
      ],
      "id": "e6dd912a"
    },
    {
      "cell_type": "code",
      "metadata": {},
      "source": [
        "import warnings\n",
        "warnings.filterwarnings('ignore')\n",
        "import numpy as np\n",
        "from sklearn.cluster import KMeans\n",
        "\n",
        "X = data[['Credit Score']]\n",
        "X = np.nan_to_num(X)\n",
        "kmeans = KMeans(n_clusters=4, n_init=10, random_state=42)\n",
        "kmeans.fit(X)\n",
        "data['Segment'] = kmeans.labels_"
      ],
      "id": "0e51991f",
      "execution_count": null,
      "outputs": []
    },
    {
      "cell_type": "markdown",
      "metadata": {},
      "source": [
        "Ahora echemos un vistazo a los segmentos:\n"
      ],
      "id": "a20fcd08"
    },
    {
      "cell_type": "code",
      "metadata": {},
      "source": [
        "data.head()"
      ],
      "id": "0d6f12c0",
      "execution_count": null,
      "outputs": []
    },
    {
      "cell_type": "code",
      "metadata": {},
      "source": [
        "# Convertir la columna segmento al tipo de datos categoría\n",
        "data['Segment'] = data['Segment'].astype('category')\n",
        "\n",
        "# Visualiza los segmentos usando Plotly\n",
        "fig = px.scatter(data, x=data.index, y='Credit Score', color='Segment',\n",
        "                 color_discrete_sequence=['green', 'blue', 'yellow', 'red'])\n",
        "fig.update_layout(\n",
        "    xaxis_title='Indice de clientes',\n",
        "    yaxis_title='Credit Score',\n",
        "    title='Customer Segmentation based on Credit Scores'\n",
        ")\n",
        "fig.show()"
      ],
      "id": "81714f2a",
      "execution_count": null,
      "outputs": []
    },
    {
      "cell_type": "markdown",
      "metadata": {},
      "source": [
        "Ahora nombremos los segmentos según los grupos anteriores y echemos un vistazo a los segmentos nuevamente:\n"
      ],
      "id": "2ac89533"
    },
    {
      "cell_type": "code",
      "metadata": {},
      "source": [
        "data['Segment'] = data['Segment'].map({2: 'Muy baja', \n",
        "                                       0: 'Baja',\n",
        "                                       1: 'Buena',\n",
        "                                       3: \"Excelente\"})\n",
        "\n",
        "# Convertir la columna segmento al tipo de datos de categoria\n",
        "data['Segment'] = data['Segment'].astype('category')\n",
        "\n",
        "# Visualiza los segmentos usando Plotly\n",
        "fig = px.scatter(data, x=data.index, y='Credit Score', color='Segment',\n",
        "                 color_discrete_sequence=['green', 'blue', 'yellow', 'red'])\n",
        "fig.update_layout(\n",
        "    xaxis_title='Customer Index',\n",
        "    yaxis_title='Credit Score',\n",
        "    title='Customer Segmentation based on Credit Scores'\n",
        ")\n",
        "fig.show()"
      ],
      "id": "d2613312",
      "execution_count": null,
      "outputs": []
    },
    {
      "cell_type": "markdown",
      "metadata": {},
      "source": [
        "Así es como puede realizar la segmentación y la calificación crediticia utilizando Python.\n",
        "\n",
        "# Resumen\n",
        "\n",
        "La calificación crediticia y la segmentación se refieren al proceso de evaluar la solvencia de personas o empresas y dividirlos en distintos grupos según sus perfiles crediticios. Su objetivo es evaluar la probabilidad de que los prestatarios paguen sus dedudas y ayuda a las instituciones financieras a tomar decisiones informadas sobre préstamos y gestión del riesgo crediticio.\n",
        "\n",
        "Espero que te haya gustado este artículo sobre segmentación y calificación crediticia usando Python. No dude en hacer preguntas valiosas en la sección de comentarios a continuación."
      ],
      "id": "74d41236"
    }
  ],
  "metadata": {
    "kernelspec": {
      "name": "python3",
      "language": "python",
      "display_name": "Python 3 (ipykernel)",
      "path": "/Users/juanisaulamejia/opt/anaconda3/share/jupyter/kernels/python3"
    }
  },
  "nbformat": 4,
  "nbformat_minor": 5
}